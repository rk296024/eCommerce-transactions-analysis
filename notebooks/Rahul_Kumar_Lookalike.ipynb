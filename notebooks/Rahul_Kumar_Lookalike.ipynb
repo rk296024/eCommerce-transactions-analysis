{
  "cells": [
    {
      "cell_type": "code",
      "execution_count": 9,
      "metadata": {
        "colab": {
          "base_uri": "https://localhost:8080/"
        },
        "id": "UPsS85QAnTtT",
        "outputId": "55132711-833a-4d60-a90b-45eccfdaf21e"
      },
      "outputs": [
        {
          "name": "stdout",
          "output_type": "stream",
          "text": [
            "  CustomerID                                         Lookalikes\n",
            "0      C0001  [('C0152', 0.9999879625100291), ('C0056', 0.99...\n",
            "1      C0002  [('C0199', 0.9993927667959704), ('C0010', 0.99...\n",
            "2      C0003  [('C0178', 0.9999947067947413), ('C0035', 0.99...\n",
            "3      C0004  [('C0101', 0.9998309789789165), ('C0108', 0.99...\n",
            "4      C0005  [('C0073', 0.9999758789813392), ('C0159', 0.99...\n"
          ]
        }
      ],
      "source": [
        "import pandas as pd\n",
        "from sklearn.preprocessing import MinMaxScaler\n",
        "from sklearn.metrics.pairwise import cosine_similarity\n",
        "\n",
        "# Loading datasets\n",
        "customers_df = pd.read_csv(\"data\\Customers.csv\")\n",
        "products_df = pd.read_csv(\"data\\Products.csv\")\n",
        "transactions_df = pd.read_csv(\"data\\Transactions.csv\")\n",
        "\n",
        "# Merge datasets\n",
        "transactions_products = pd.merge(transactions_df, products_df, on=\"ProductID\", how=\"left\")\n",
        "merged_df = pd.merge(transactions_products, customers_df, on=\"CustomerID\", how=\"left\")\n",
        "\n",
        "# Feature Engineering: Aggregating data at the customer level\n",
        "customer_features = merged_df.groupby(\"CustomerID\").agg(\n",
        "    total_transactions=(\"TransactionID\", \"count\"),\n",
        "    total_spent=(\"TotalValue\", \"sum\"),\n",
        "    avg_spent=(\"TotalValue\", \"mean\"),\n",
        "    unique_categories=(\"Category\", \"nunique\"),\n",
        ").reset_index()\n",
        "\n",
        "# Normalize features for similarity calculation\n",
        "scaler = MinMaxScaler()\n",
        "normalized_features = scaler.fit_transform(\n",
        "    customer_features[[\"total_transactions\", \"total_spent\", \"avg_spent\", \"unique_categories\"]]\n",
        ")\n",
        "\n",
        "# Computing cosine similarity between customers\n",
        "similarity_matrix = cosine_similarity(normalized_features)\n",
        "\n",
        "# Creating a DataFrame for similarity results\n",
        "similarity_df = pd.DataFrame(\n",
        "    similarity_matrix,\n",
        "    index=customer_features[\"CustomerID\"],\n",
        "    columns=customer_features[\"CustomerID\"]\n",
        ")\n",
        "\n",
        "# Function to get top N similar customers for a given customer ID\n",
        "def get_top_similar_customers(customer_id, n=3):\n",
        "    similar_customers = similarity_df[customer_id].sort_values(ascending=False).iloc[1:n+1]\n",
        "    return list(zip(similar_customers.index, similar_customers.values))\n",
        "\n",
        "# Getting top 3 similar customers for the first 20 customers\n",
        "lookalike_results = {\n",
        "    customer: get_top_similar_customers(customer) for customer in customer_features[\"CustomerID\"][:20]\n",
        "}\n",
        "\n",
        "# Create a DataFrame to save the lookalike results\n",
        "lookalike_df = pd.DataFrame({\n",
        "    \"CustomerID\": lookalike_results.keys(),\n",
        "    \"Lookalikes\": [str(value) for value in lookalike_results.values()]\n",
        "})\n",
        "\n",
        "# Saving the results to a CSV file\n",
        "lookalike_df.to_csv(\"Rahul_Kumar_Lookalike.csv\", index=False)\n",
        "\n",
        "# Displing the first few rows of the lookalike results\n",
        "print(lookalike_df.head())\n"
      ]
    }
  ],
  "metadata": {
    "colab": {
      "provenance": []
    },
    "kernelspec": {
      "display_name": "Python 3",
      "name": "python3"
    },
    "language_info": {
      "name": "python"
    }
  },
  "nbformat": 4,
  "nbformat_minor": 0
}
